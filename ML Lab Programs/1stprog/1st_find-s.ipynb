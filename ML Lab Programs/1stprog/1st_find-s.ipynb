{
 "cells": [
  {
   "cell_type": "code",
   "execution_count": 1,
   "metadata": {},
   "outputs": [
    {
     "name": "stdout",
     "output_type": "stream",
     "text": [
      "['Sky', 'Temp', 'Humidity', 'Wind', 'Water', 'Forecast']\n",
      "[['Sunny ', 'Warm', 'Normal', 'Strong ', 'Warm', 'Same', 'Yes'], ['Sunny ', 'Warm', 'High', 'Strong ', 'Warm', 'Same', 'Yes'], ['Rainy', 'Cold', 'High', 'Strong ', 'Warm', 'Change', 'No'], ['Sunny ', 'Warm', 'High', 'Strong ', 'Cool', 'Change', 'Yes']]\n",
      "Intial Hypothesis\n",
      "['0', '0', '0', '0', '0', '0']\n",
      "The Hypothesis are\n",
      "1 = ['Sunny ', 'Warm', 'Normal', 'Strong ', 'Warm', 'Same']\n",
      "2 = ['Sunny ', 'Warm', '?', 'Strong ', 'Warm', 'Same']\n",
      "3 = ['Sunny ', 'Warm', '?', 'Strong ', 'Warm', 'Same']\n",
      "4 = ['Sunny ', 'Warm', '?', 'Strong ', '?', '?']\n",
      "Final Hypothesis\n",
      "['Sunny ', 'Warm', '?', 'Strong ', '?', '?']\n"
     ]
    }
   ],
   "source": [
    "import csv\n",
    "\n",
    "def loadCsv(filename):\n",
    "    lines = csv.reader(open(filename, \"rt\"))\n",
    "    dataset = list(lines)\n",
    "    for i in range(len(dataset)):\n",
    "        dataset[i] = dataset[i]\n",
    "    return dataset\n",
    "\n",
    "attributes = ['Sky','Temp','Humidity','Wind','Water','Forecast']\n",
    "print(attributes)\n",
    "num_attributes = len(attributes)\n",
    "\n",
    "filename = \"Weather.csv\"\n",
    "dataset = loadCsv(filename)\n",
    "print(dataset)\n",
    "\n",
    "hypothesis=['0'] * num_attributes\n",
    "print(\"Intial Hypothesis\")\n",
    "print(hypothesis)\n",
    "\n",
    "print(\"The Hypothesis are\")\n",
    "for i in range(len(dataset)):\n",
    "    target = dataset[i][-1]\n",
    "  \n",
    "    if(target == 'Yes'):\n",
    "        for j in range(num_attributes):        \n",
    "            if(hypothesis[j]=='0'):\n",
    "                hypothesis[j] = dataset[i][j]\n",
    "            if(hypothesis[j]!= dataset[i][j]):\n",
    "                hypothesis[j]='?'\n",
    "      \n",
    "    print(i+1,'=',hypothesis)\n",
    "    \n",
    "print(\"Final Hypothesis\")\n",
    "print(hypothesis)\n"
   ]
  },
  {
   "cell_type": "code",
   "execution_count": null,
   "metadata": {},
   "outputs": [],
   "source": []
  }
 ],
 "metadata": {
  "kernelspec": {
   "display_name": "Python 3",
   "language": "python",
   "name": "python3"
  },
  "language_info": {
   "codemirror_mode": {
    "name": "ipython",
    "version": 3
   },
   "file_extension": ".py",
   "mimetype": "text/x-python",
   "name": "python",
   "nbconvert_exporter": "python",
   "pygments_lexer": "ipython3",
   "version": "3.7.1"
  }
 },
 "nbformat": 4,
 "nbformat_minor": 2
}
