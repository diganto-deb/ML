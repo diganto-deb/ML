{
 "cells": [
  {
   "cell_type": "code",
   "execution_count": 2,
   "metadata": {},
   "outputs": [
    {
     "name": "stdout",
     "output_type": "stream",
     "text": [
      "[[0.36539323 0.30791846 0.9663703 ]\n",
      " [0.46530192 0.11295358 0.57473813]]\n",
      "[[0.66037058 0.75612618 0.89160892]]\n",
      "[[0.08429016]\n",
      " [0.63507327]\n",
      " [0.12614351]]\n",
      "[[0.67593141]]\n",
      "[[0.22642667 0.2774122  0.98465829]\n",
      " [0.1317495  0.11794243 0.6625711 ]]\n",
      "[[ 0.88362752]\n",
      " [ 1.47672381]\n",
      " [-0.66894323]]\n",
      "normalized input:\n",
      "[[2. 9.]\n",
      " [1. 5.]\n",
      " [3. 6.]\n",
      " [5. 4.]]\n",
      "actual output:\n",
      "[[0.92]\n",
      " [0.86]\n",
      " [0.89]\n",
      " [0.9 ]]\n",
      "Predicated Output:\n",
      " [[0.89668109]\n",
      " [0.87787603]\n",
      " [0.89460946]\n",
      " [0.89913876]]\n"
     ]
    }
   ],
   "source": [
    "import numpy as np\n",
    "X=np.array(([2,9],[1,5],[3,6],[5,4]),dtype=float)\n",
    "Y=np.array(([92],[86],[89],[90]),dtype=float)\n",
    "def sigmoid(x):\n",
    "    return 1/(1+np.exp(-x))\n",
    "def derivatives_sigmoid(x):\n",
    "    return x*(1-x)\n",
    "epoch=100000\n",
    "lr=0.1\n",
    "inputlayer_neurons=2\n",
    "hiddenlayer_neurons=3\n",
    "output_neurons=1\n",
    "wh=np.random.uniform(size=(inputlayer_neurons,hiddenlayer_neurons))\n",
    "bh=np.random.uniform(size=(1,hiddenlayer_neurons))\n",
    "wout=np.random.uniform(size=(hiddenlayer_neurons,output_neurons))\n",
    "bout=np.random.uniform(size=(1,output_neurons))\n",
    "print(wh)\n",
    "print(bh)\n",
    "print(wout)\n",
    "print(bout)\n",
    "for i in range(epoch):\n",
    "    h_ip=np.dot(X,wh)+bh\n",
    "    h_act=sigmoid(h_ip)\n",
    "    o_ip=np.dot(h_act,wout)+bout\n",
    "    output=sigmoid(o_ip)\n",
    "    Eo=y-output\n",
    "    outgrad=derivatives_sigmoid(output)\n",
    "    d_output=Eo*outgrad\n",
    "    Eh=d_output.dot(wout.T)\n",
    "    hiddengrad=derivatives_sigmoid(h_act)\n",
    "    d_hidden=Eh*hiddengrad\n",
    "    wout+=h_act.T.dot(d_output)*lr\n",
    "    wh+=X.T.dot(d_hidden)*lr\n",
    "print(wh)\n",
    "print(wout)\n",
    "print(\"normalized input:\\n\"+str(X))\n",
    "print(\"actual output:\\n\" +str(y))\n",
    "print(\"Predicated Output:\\n\",+output)"
   ]
  },
  {
   "cell_type": "code",
   "execution_count": null,
   "metadata": {},
   "outputs": [],
   "source": []
  }
 ],
 "metadata": {
  "kernelspec": {
   "display_name": "Python 3",
   "language": "python",
   "name": "python3"
  },
  "language_info": {
   "codemirror_mode": {
    "name": "ipython",
    "version": 3
   },
   "file_extension": ".py",
   "mimetype": "text/x-python",
   "name": "python",
   "nbconvert_exporter": "python",
   "pygments_lexer": "ipython3",
   "version": "3.7.1"
  }
 },
 "nbformat": 4,
 "nbformat_minor": 2
}
