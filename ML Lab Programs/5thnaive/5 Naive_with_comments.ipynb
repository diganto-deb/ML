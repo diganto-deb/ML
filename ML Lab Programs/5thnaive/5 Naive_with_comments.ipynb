{
 "cells": [
  {
   "cell_type": "markdown",
   "metadata": {},
   "source": [
    "# 5 . Write a program to implement the naive Bayesian classifier for a sample   \n",
    "#     Training dataset stored as .csv file.Compute the accuracy of the classifier    ,considering few datasets"
   ]
  },
  {
   "cell_type": "markdown",
   "metadata": {},
   "source": [
    "# Steps\n",
    "##  1.Load CSV file\n",
    "\n",
    "##  2.Split the dataset into Training and Test data based on split ratio\n",
    "\n",
    "##  3. Train the training dataset\n",
    "\n",
    "##      3a. separate the dataset into ‘Yes’ class and ‘No’ class  ie [ 1 or 0 ]class\n",
    "##      3b,.3c ,3d   Find the mean and standard deviation for class  class 0 and Class 1\n",
    "\n",
    "##  4.Do  predictions for each Test case\n",
    "##      4a,4b,4c  .For each Test case find the Gaussian probability for both 0 and 1 class using    \n",
    "##            trained set   mean and SD  .Based on that  predict to which   class it  belongs to.\n",
    "\n",
    "##  5. Compare the predicted class and the  actual Test class to find the accuracy \n"
   ]
  },
  {
   "cell_type": "code",
   "execution_count": 186,
   "metadata": {},
   "outputs": [],
   "source": [
    "import csv\n",
    "import random\n",
    "import math"
   ]
  },
  {
   "cell_type": "markdown",
   "metadata": {},
   "source": [
    "# Outlook\tHumidity\twind\tplay\n",
    "1       1\t             1\t         1\t         0\n",
    "2\t    1\t             1           2\t         0\n",
    "3       2\t             1\t         1           1\n",
    "4\t    3\t             1\t         1\t         1\n",
    "5\t    3\t             2\t         1\t         1\n",
    "6\t    3\t             2\t         2\t         0\n",
    "7\t    2\t             2\t         2\t         1\n",
    "8       1\t             1\t         1\t         0\n",
    "9\t    1\t             2\t         1\t         1\n",
    "10\t    3\t             2\t         1\t         1\n",
    "11\t    1\t             2\t         2\t         1\n",
    "12\t    2\t             1\t         2\t         1\n",
    "13\t    2\t             2\t         1\t         1\n",
    "14\t    3\t             1\t         2\t         0\n"
   ]
  },
  {
   "cell_type": "code",
   "execution_count": 187,
   "metadata": {},
   "outputs": [],
   "source": [
    "#1\n",
    "def loadCsv(filename):\n",
    "    lines = csv.reader(open(filename, \"r\"))\n",
    "    dataset = list(lines)\n",
    "    for i in range(len(dataset)):\n",
    "        dataset[i] = [float(x) for x in dataset[i]]\n",
    "    return dataset\n"
   ]
  },
  {
   "cell_type": "code",
   "execution_count": 188,
   "metadata": {},
   "outputs": [],
   "source": [
    "#2\n",
    "def splitDataset(dataset, splitRatio):\n",
    "    trainSize = int(len(dataset) * splitRatio)\n",
    "    trainSet = []\n",
    "    copy = list(dataset)\n",
    "    while len(trainSet) < trainSize:\n",
    "        index = random.randrange(len(copy))\n",
    "        trainSet.append(copy.pop(index))\n",
    "    return [trainSet, copy]"
   ]
  },
  {
   "cell_type": "markdown",
   "metadata": {},
   "source": [
    "\n",
    "\n",
    "# Training set  [ trainSet ]\n",
    "    Outlook\t        Humidity\t  wind\t       play\n",
    "1       1\t             1\t         1\t         0\n",
    "2\t    1\t             1           2\t         0\n",
    "4\t    3\t             1\t         1\t         1\n",
    "5\t    3\t             2\t         1\t         1\n",
    "7\t    2\t             2\t         2\t         1\n",
    "8       1\t             1\t         1\t         0\n",
    "12\t    2\t             1\t         2\t         1\n",
    "13\t    2\t             2\t         1\t         1\n",
    "14\t    3\t             1\t         2\t         0\n",
    "\n",
    "# Test set   [copy]\n",
    "# Outlook\tHumidity\twind\tplay\n",
    "\n",
    "3       2\t             1\t         1           1\n",
    "6\t    3\t             2\t         2\t         0\n",
    "9\t    1\t             2\t         1\t         1\n",
    "10\t    3\t             2\t         1\t         1\n",
    "11\t    1\t             2\t         2\t         1\n",
    "\n",
    " \n",
    "# Split 14 Rows into train = 9  and test= 5  rows"
   ]
  },
  {
   "cell_type": "code",
   "execution_count": 189,
   "metadata": {},
   "outputs": [],
   "source": [
    "# 3 a \n",
    "def separateByClass(dataset):\n",
    "    separated = {}\n",
    "    for i in range(len(dataset)):\n",
    "        vector = dataset[i]\n",
    "      # print(dataset[0])\n",
    "        if (vector[-1] not in separated):\n",
    "            separated[vector[-1]] = []\n",
    "        separated[vector[-1]].append(vector)\n",
    "        \n",
    "    return separated"
   ]
  },
  {
   "cell_type": "markdown",
   "metadata": {},
   "source": [
    "# Open a dictionary with a key,value pair\n",
    "    separated[0] { [0.0 : [1,1,2,0],[3,1,2,0],[1,1,1,0],[1,1,1,0] ]\n",
    "    separated[1]   [1.0 : [2,2,1,1],[2,2,2,1],[3,1,1,1],[3,2,1,1],[2,1,2,1] ] }"
   ]
  },
  {
   "cell_type": "markdown",
   "metadata": {},
   "source": [
    "#  Mean\n",
    "     ( Σ xi ) / n"
   ]
  },
  {
   "cell_type": "code",
   "execution_count": 190,
   "metadata": {},
   "outputs": [],
   "source": [
    "# 3 c\n",
    "def mean(numbers):\n",
    "    return sum(numbers)/float(len(numbers))"
   ]
  },
  {
   "cell_type": "markdown",
   "metadata": {},
   "source": [
    "# Stddev\n",
    "subtract the mean individually from each of the numbers given and square the result."
   ]
  },
  {
   "attachments": {
    "std.png": {
     "image/png": "[encoded data removed]"
    }
   },
   "cell_type": "markdown",
   "metadata": {},
   "source": [
    "![std.png](attachment:std.png)# "
   ]
  },
  {
   "cell_type": "code",
   "execution_count": 191,
   "metadata": {},
   "outputs": [],
   "source": [
    "# 3 d\n",
    "def stdev(numbers):\n",
    "    avg = mean(numbers)\n",
    "    variance = sum([pow(x-avg,2) for x in numbers])/float(len(numbers)-1)\n",
    "    return math.sqrt(variance)"
   ]
  },
  {
   "cell_type": "code",
   "execution_count": 192,
   "metadata": {},
   "outputs": [],
   "source": [
    "# 3 b\n",
    "def summarize(dataset):\n",
    "    summaries = [(mean(attribute), stdev(attribute)) for attribute in zip(*dataset)]\n",
    "    del summaries[-1]\n",
    "    return summaries"
   ]
  },
  {
   "cell_type": "markdown",
   "metadata": {},
   "source": [
    "# Mean and standard deviation of  class 0 and class1\n",
    "   \n",
    "             M(O),S(O))    M(H),S(H)    M(W),S(W)     M(P),S(P)\n",
    "    {0.0    :[1.5,1.0]    [1  , 0 ]     [1.5,0.5]\n",
    "   \n",
    "     1.0    :[2.4,0.5]    [1.6,0.5]     [1.4,0.5]     "
   ]
  },
  {
   "cell_type": "code",
   "execution_count": 193,
   "metadata": {},
   "outputs": [],
   "source": [
    "#3\n",
    "def summarizeByClass(dataset):\n",
    "    separated = separateByClass(dataset)\n",
    "    #print(separated)\n",
    "    #print(len(separated))\n",
    "    summaries = {}\n",
    "    for classValue, instances in separated.items():\n",
    "            summaries[classValue] = summarize(instances)     \n",
    "    #print(summaries)\n",
    "    return summaries\n"
   ]
  },
  {
   "cell_type": "markdown",
   "metadata": {},
   "source": [
    "# gaussian  distribution"
   ]
  },
  {
   "attachments": {
    "gaussian.jpg": {
     "image/jpeg": "[encoded data removed]"
    }
   },
   "cell_type": "markdown",
   "metadata": {},
   "source": [
    "# ![gaussian.jpg](attachment:gaussian.jpg)"
   ]
  },
  {
   "cell_type": "code",
   "execution_count": 194,
   "metadata": {},
   "outputs": [],
   "source": [
    "# 4 c \n",
    "def calculateProbability(x, mean, stdev):\n",
    "    exponent = math.exp(-(math.pow(x-mean,2)/(2*math.pow(stdev,2))))\n",
    "    return (1 / (math.sqrt(2*math.pi) * stdev)) * exponent\n"
   ]
  },
  {
   "cell_type": "code",
   "execution_count": 195,
   "metadata": {},
   "outputs": [],
   "source": [
    "#4 b\n",
    "def calculateClassProbabilities(summaries, inputVector):\n",
    "    probabilities = {}\n",
    "    for classValue, classSummaries in summaries.items():\n",
    "        probabilities[classValue] = 1\n",
    "           # print(len(classSummaries))\n",
    "        for i in range(len(classSummaries)):\n",
    "            mean, stdev = classSummaries[i]\n",
    "            x = inputVector[i]\n",
    "            #print(x)\n",
    "            probabilities[classValue] *= calculateProbability(x, mean, stdev)\n",
    "    return probabilities\n"
   ]
  },
  {
   "cell_type": "markdown",
   "metadata": {},
   "source": [
    "# Predict for each test input\n",
    "    \n",
    "     Ex :          O  H  W  P\n",
    "       Test i/p   [2  1  1  1]\n",
    "         \n",
    "         0 class   x    M    S\n",
    "                   2   1.5  1.0\n",
    "                   1    1   0.0          ->  0\n",
    "                   1   1.5  0.5\n",
    "                   \n",
    "         1 class   2   2.4  0.5\n",
    "                   1   1.6  0.5          -> 1.5\n",
    "                   1   1.4  0.5\n",
    "   \n",
    "   "
   ]
  },
  {
   "cell_type": "code",
   "execution_count": 196,
   "metadata": {},
   "outputs": [],
   "source": [
    "#4 a\n",
    "def predict(summaries, inputVector):\n",
    "    probabilities = calculateClassProbabilities(summaries, inputVector)\n",
    "    #print(probabilities)\n",
    "    bestLabel, bestProb = None, -1\n",
    "    for classValue, probability in probabilities.items():\n",
    "        if bestLabel is None or probability > bestProb:\n",
    "            bestProb = probability\n",
    "            bestLabel = classValue\n",
    "    return bestLabel"
   ]
  },
  {
   "cell_type": "markdown",
   "metadata": {},
   "source": [
    "#  predict\n",
    "     Best Label       :  1.5\n",
    "     Best class value :  1 "
   ]
  },
  {
   "cell_type": "code",
   "execution_count": 197,
   "metadata": {},
   "outputs": [],
   "source": [
    "#4\n",
    "def getPredictions(summaries, testSet):\n",
    "    predictions = []\n",
    "    for i in range(len(testSet)):\n",
    "        result = predict(summaries, testSet[i])\n",
    "        predictions.append(result)\n",
    "      # print(predictions) \n",
    "    return predictions\n"
   ]
  },
  {
   "cell_type": "markdown",
   "metadata": {},
   "source": [
    "#                                      predictions\n",
    "    Outlook\t         Humidity\t   wind\t       play\n",
    "\n",
    "3       2\t             1\t         1           1\n",
    "6\t    3\t             2\t         2\t         1\n",
    "9\t    1\t             2\t         1\t         0\n",
    "10\t    3\t             2\t         1\t         1\n",
    "11\t    1\t             2\t         2\t         1\n"
   ]
  },
  {
   "cell_type": "code",
   "execution_count": 198,
   "metadata": {},
   "outputs": [],
   "source": [
    "#5\n",
    "def getAccuracy(testSet, predictions):\n",
    "    correct = 0\n",
    "    for i in range(len(testSet)):\n",
    "        if testSet[i][-1] == predictions[i]:\n",
    "            correct += 1\n",
    "    return (correct/float(len(testSet))) * 100.0"
   ]
  },
  {
   "cell_type": "markdown",
   "metadata": {},
   "source": [
    "# Test set    \n",
    "     Outlook\t       Humidity\t   wind\t       play    Outlook\t   Humidity\t   wind\t       play\n",
    "\n",
    "3       2\t             1\t         1           1         2\t    1\t           1             1\n",
    "6\t    3\t             2\t         2\t         0          3\t    2\t           2\t         1\n",
    "9\t    1\t             2\t         1\t         1          1\t    2\t           1\t         0\n",
    "10\t    3\t             2\t         1\t         1         3\t     2\t           1\t         1\n",
    "11\t    1\t             2\t         2\t         1         1\t    2\t           2\t         1 \n",
    "\n",
    " \n",
    "  correct = 3/5 * 100  =  60 %\n",
    "\n"
   ]
  },
  {
   "cell_type": "code",
   "execution_count": 199,
   "metadata": {},
   "outputs": [],
   "source": [
    "filename = 'sports.csv'\n",
    "splitRatio = 0.70\n",
    "# 1\n",
    "dataset = loadCsv(filename)\n",
    "#2\n",
    "trainingSet, testSet = splitDataset(dataset, splitRatio)\n",
    "#print(trainingSet)\n",
    "#print(testSet)\n",
    "#print('Split {0} rows into train={1} and test={2} rows'.format(len(dataset), len(trainingSet), len(testSet)))\n"
   ]
  },
  {
   "cell_type": "code",
   "execution_count": 200,
   "metadata": {},
   "outputs": [],
   "source": [
    "#3\n",
    "summaries = summarizeByClass(trainingSet) \n",
    "#print(summaries)"
   ]
  },
  {
   "cell_type": "code",
   "execution_count": 201,
   "metadata": {},
   "outputs": [],
   "source": [
    "#4\n",
    "# test model\n",
    "predictions = getPredictions(summaries, testSet)\n",
    "#print(predictions)"
   ]
  },
  {
   "cell_type": "code",
   "execution_count": 202,
   "metadata": {},
   "outputs": [],
   "source": [
    "#5\n",
    "accuracy = getAccuracy(testSet, predictions)\n",
    "#print('Accuracy: {0}%'.format(accuracy))"
   ]
  },
  {
   "cell_type": "code",
   "execution_count": null,
   "metadata": {},
   "outputs": [],
   "source": []
  },
  {
   "cell_type": "code",
   "execution_count": null,
   "metadata": {},
   "outputs": [],
   "source": []
  }
 ],
 "metadata": {
  "kernelspec": {
   "display_name": "Python 3",
   "language": "python",
   "name": "python3"
  },
  "language_info": {
   "codemirror_mode": {
    "name": "ipython",
    "version": 3
   },
   "file_extension": ".py",
   "mimetype": "text/x-python",
   "name": "python",
   "nbconvert_exporter": "python",
   "pygments_lexer": "ipython3",
   "version": "3.6.5"
  }
 },
 "nbformat": 4,
 "nbformat_minor": 2
}
